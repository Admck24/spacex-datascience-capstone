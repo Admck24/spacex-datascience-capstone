{
 "cells": [
  {
   "cell_type": "markdown",
   "id": "940f26bb",
   "metadata": {},
   "source": [
    "# SpaceX Launch Sites - Interactive Map with Folium"
   ]
  },
  {
   "cell_type": "code",
   "execution_count": null,
   "id": "f2c08004",
   "metadata": {},
   "outputs": [],
   "source": [
    "import folium\n",
    "from folium import Map, Marker, Circle, PolyLine\n",
    "\n",
    "# Define some sample launch site coordinates\n",
    "launch_sites = {\n",
    "    'CCAFS LC-40': [28.562302, -80.577356],\n",
    "    'VAFB SLC-4E': [34.632093, -120.610829],\n",
    "    'KSC LC-39A': [28.573255, -80.646895],\n",
    "    'CCAFS SLC-40': [28.561857, -80.577366]\n",
    "}\n",
    "\n",
    "# Initialize map\n",
    "spacex_map = folium.Map(location=[28.5, -80.6], zoom_start=4)\n",
    "\n",
    "# Add launch site markers\n",
    "for site, coord in launch_sites.items():\n",
    "    folium.Marker(coord, popup=site, icon=folium.Icon(color='blue')).add_to(spacex_map)\n",
    "\n",
    "# Display map\n",
    "spacex_map"
   ]
  },
  {
   "cell_type": "code",
   "execution_count": null,
   "id": "f5db23cc",
   "metadata": {},
   "outputs": [],
   "source": [
    "# Launch outcomes by site\n",
    "launch_outcomes = {\n",
    "    'CCAFS LC-40': 'Success',\n",
    "    'VAFB SLC-4E': 'Failure',\n",
    "    'KSC LC-39A': 'Success',\n",
    "    'CCAFS SLC-40': 'Success'\n",
    "}\n",
    "\n",
    "# Color-coded map\n",
    "color_map = folium.Map(location=[28.5, -80.6], zoom_start=4)\n",
    "for site, coord in launch_sites.items():\n",
    "    outcome = launch_outcomes[site]\n",
    "    color = 'green' if outcome == 'Success' else 'red'\n",
    "    folium.CircleMarker(\n",
    "        location=coord,\n",
    "        radius=8,\n",
    "        color=color,\n",
    "        fill=True,\n",
    "        fill_color=color,\n",
    "        fill_opacity=0.6,\n",
    "        popup=f\"{site}: {outcome}\"\n",
    "    ).add_to(color_map)\n",
    "color_map"
   ]
  },
  {
   "cell_type": "code",
   "execution_count": null,
   "id": "b09947a7",
   "metadata": {},
   "outputs": [],
   "source": [
    "# Proximity example using one site\n",
    "proximity_map = folium.Map(location=launch_sites['KSC LC-39A'], zoom_start=10)\n",
    "\n",
    "# Add site marker\n",
    "folium.Marker(launch_sites['KSC LC-39A'], popup='KSC LC-39A', icon=folium.Icon(color='blue')).add_to(proximity_map)\n",
    "\n",
    "# Add coast, rail, and highway mock points\n",
    "coast = [28.574, -80.65]\n",
    "rail = [28.58, -80.64]\n",
    "highway = [28.57, -80.66]\n",
    "\n",
    "folium.Marker(coast, popup='Coastline').add_to(proximity_map)\n",
    "folium.Marker(rail, popup='Railway').add_to(proximity_map)\n",
    "folium.Marker(highway, popup='Highway').add_to(proximity_map)\n",
    "\n",
    "# Draw lines\n",
    "folium.PolyLine([launch_sites['KSC LC-39A'], coast], color='blue').add_to(proximity_map)\n",
    "folium.PolyLine([launch_sites['KSC LC-39A'], rail], color='gray').add_to(proximity_map)\n",
    "folium.PolyLine([launch_sites['KSC LC-39A'], highway], color='orange').add_to(proximity_map)\n",
    "\n",
    "proximity_map"
   ]
  }
 ],
 "metadata": {},
 "nbformat": 4,
 "nbformat_minor": 5
}
