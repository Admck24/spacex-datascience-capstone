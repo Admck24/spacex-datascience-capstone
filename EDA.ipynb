{
 "cells": [
  {
   "cell_type": "markdown",
   "id": "f7d11918",
   "metadata": {},
   "source": [
    "# SpaceX Launch Data - Exploratory Data Analysis"
   ]
  },
  {
   "cell_type": "code",
   "execution_count": null,
   "id": "a7782e6c",
   "metadata": {},
   "outputs": [],
   "source": [
    "import pandas as pd\n",
    "import matplotlib.pyplot as plt\n",
    "%matplotlib inline"
   ]
  },
  {
   "cell_type": "code",
   "execution_count": null,
   "id": "16adcc1d",
   "metadata": {},
   "outputs": [],
   "source": [
    "data = {\n",
    "    'FlightNumber': list(range(1, 11)),\n",
    "    'LaunchSite': ['CCAFS LC-40', 'VAFB SLC-4E', 'KSC LC-39A', 'CCAFS SLC-40', 'CCAFS LC-40',\n",
    "                   'VAFB SLC-4E', 'KSC LC-39A', 'CCAFS SLC-40', 'CCAFS LC-40', 'KSC LC-39A'],\n",
    "    'PayloadMass': [3000, 4000, 6000, 2500, 3000, 4100, 5800, 2700, 3200, 6100],\n",
    "    'Orbit': ['LEO', 'LEO', 'GTO', 'LEO', 'SSO', 'SSO', 'GTO', 'LEO', 'GTO', 'LEO'],\n",
    "    'LaunchSuccess': [1, 0, 1, 1, 0, 1, 1, 0, 1, 1],\n",
    "    'Year': [2016, 2016, 2017, 2017, 2017, 2018, 2018, 2018, 2019, 2019]\n",
    "}\n",
    "df = pd.DataFrame(data)\n",
    "df.head()"
   ]
  },
  {
   "cell_type": "markdown",
   "id": "9d6c0827",
   "metadata": {},
   "source": [
    "## Flight Number vs. Launch Site"
   ]
  },
  {
   "cell_type": "code",
   "execution_count": null,
   "id": "8cc79078",
   "metadata": {},
   "outputs": [],
   "source": [
    "for site in df['LaunchSite'].unique():\n",
    "    site_data = df[df['LaunchSite'] == site]\n",
    "    plt.scatter(site_data['FlightNumber'], [site]*len(site_data), label=site)\n",
    "plt.xlabel('Flight Number')\n",
    "plt.ylabel('Launch Site')\n",
    "plt.title('Flight Number vs Launch Site')\n",
    "plt.legend()\n",
    "plt.show()"
   ]
  },
  {
   "cell_type": "markdown",
   "id": "4e94831d",
   "metadata": {},
   "source": [
    "## Payload Mass vs. Launch Site"
   ]
  },
  {
   "cell_type": "code",
   "execution_count": null,
   "id": "5e7b8ea3",
   "metadata": {},
   "outputs": [],
   "source": [
    "for site in df['LaunchSite'].unique():\n",
    "    site_data = df[df['LaunchSite'] == site]\n",
    "    plt.scatter(site_data['PayloadMass'], [site]*len(site_data), label=site)\n",
    "plt.xlabel('Payload Mass (kg)')\n",
    "plt.ylabel('Launch Site')\n",
    "plt.title('Payload vs Launch Site')\n",
    "plt.legend()\n",
    "plt.show()"
   ]
  },
  {
   "cell_type": "markdown",
   "id": "dd9f7fa8",
   "metadata": {},
   "source": [
    "## Success Rate by Orbit Type"
   ]
  },
  {
   "cell_type": "code",
   "execution_count": null,
   "id": "01686a10",
   "metadata": {},
   "outputs": [],
   "source": [
    "success_by_orbit = df.groupby('Orbit')['LaunchSuccess'].mean()\n",
    "success_by_orbit.plot(kind='bar', title='Success Rate by Orbit Type')\n",
    "plt.ylabel('Success Rate')\n",
    "plt.show()"
   ]
  },
  {
   "cell_type": "markdown",
   "id": "f2ea622c",
   "metadata": {},
   "source": [
    "## Launch Success Yearly Trend"
   ]
  },
  {
   "cell_type": "code",
   "execution_count": null,
   "id": "67382681",
   "metadata": {},
   "outputs": [],
   "source": [
    "success_by_year = df.groupby('Year')['LaunchSuccess'].mean()\n",
    "success_by_year.plot(kind='line', marker='o', title='Launch Success Yearly Trend')\n",
    "plt.ylabel('Average Success Rate')\n",
    "plt.xlabel('Year')\n",
    "plt.show()"
   ]
  }
 ],
 "metadata": {},
 "nbformat": 4,
 "nbformat_minor": 5
}
