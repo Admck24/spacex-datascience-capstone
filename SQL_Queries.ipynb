{
 "cells": [
  {
   "cell_type": "markdown",
   "id": "145b59f5",
   "metadata": {},
   "source": [
    "# SpaceX Launch Data - SQL Analysis"
   ]
  },
  {
   "cell_type": "markdown",
   "id": "c831503f",
   "metadata": {},
   "source": [
    "This notebook presents SQL queries executed on the SpaceX dataset."
   ]
  },
  {
   "cell_type": "markdown",
   "id": "b4856b25",
   "metadata": {},
   "source": [
    "## 1. All Launch Site Names"
   ]
  },
  {
   "cell_type": "code",
   "execution_count": null,
   "id": "36dc4dba",
   "metadata": {},
   "outputs": [],
   "source": [
    "SELECT DISTINCT(LaunchSite) FROM SPACEXTBL;"
   ]
  },
  {
   "cell_type": "markdown",
   "id": "48777687",
   "metadata": {},
   "source": [
    "This query returns all unique launch site names used by SpaceX."
   ]
  },
  {
   "cell_type": "markdown",
   "id": "26ed52dc",
   "metadata": {},
   "source": [
    "## 2. Launch Sites Beginning with 'CCA'"
   ]
  },
  {
   "cell_type": "code",
   "execution_count": null,
   "id": "3f76a1b9",
   "metadata": {},
   "outputs": [],
   "source": [
    "SELECT * FROM SPACEXTBL WHERE LaunchSite LIKE 'CCA%';"
   ]
  },
  {
   "cell_type": "markdown",
   "id": "32cf615e",
   "metadata": {},
   "source": [
    "Filters launch sites starting with 'CCA'."
   ]
  },
  {
   "cell_type": "markdown",
   "id": "59ea2abf",
   "metadata": {},
   "source": [
    "## 3. Total Payload Carried by NASA"
   ]
  },
  {
   "cell_type": "code",
   "execution_count": null,
   "id": "798b0989",
   "metadata": {},
   "outputs": [],
   "source": [
    "SELECT SUM(PayloadMass) FROM SPACEXTBL WHERE Customer = 'NASA';"
   ]
  },
  {
   "cell_type": "markdown",
   "id": "ca1cce28",
   "metadata": {},
   "source": [
    "Calculates total payload launched for NASA."
   ]
  },
  {
   "cell_type": "markdown",
   "id": "55d9b14f",
   "metadata": {},
   "source": [
    "## 4. Average Payload Mass by F9 v1.1"
   ]
  },
  {
   "cell_type": "code",
   "execution_count": null,
   "id": "70d76cd5",
   "metadata": {},
   "outputs": [],
   "source": [
    "SELECT AVG(PayloadMass) FROM SPACEXTBL WHERE BoosterVersion = 'F9 v1.1';"
   ]
  },
  {
   "cell_type": "markdown",
   "id": "12481962",
   "metadata": {},
   "source": [
    "Finds average payload for booster version F9 v1.1."
   ]
  },
  {
   "cell_type": "markdown",
   "id": "c4890e46",
   "metadata": {},
   "source": [
    "## 5. First Successful Ground Landing Date"
   ]
  },
  {
   "cell_type": "code",
   "execution_count": null,
   "id": "1e09fd62",
   "metadata": {},
   "outputs": [],
   "source": [
    "SELECT Date FROM SPACEXTBL WHERE LandingOutcome = 'Success (ground pad)' ORDER BY Date ASC LIMIT 1;"
   ]
  },
  {
   "cell_type": "markdown",
   "id": "6d3bcbf0",
   "metadata": {},
   "source": [
    "Returns the first date of successful landing on ground pad."
   ]
  },
  {
   "cell_type": "markdown",
   "id": "fe9ac452",
   "metadata": {},
   "source": [
    "## 6. Drone Ship Landings with Payload 4000–6000"
   ]
  },
  {
   "cell_type": "code",
   "execution_count": null,
   "id": "dd1c9d9e",
   "metadata": {},
   "outputs": [],
   "source": [
    "SELECT BoosterVersion, PayloadMass, LaunchSite \n",
    "FROM SPACEXTBL \n",
    "WHERE LandingOutcome = 'Success (drone ship)' AND PayloadMass BETWEEN 4000 AND 6000;"
   ]
  },
  {
   "cell_type": "markdown",
   "id": "3ca5fec4",
   "metadata": {},
   "source": [
    "Finds drone ship landings with mid-range payload."
   ]
  },
  {
   "cell_type": "markdown",
   "id": "9fa99fac",
   "metadata": {},
   "source": [
    "## 7. Total Number of Successful and Failed Missions"
   ]
  },
  {
   "cell_type": "code",
   "execution_count": null,
   "id": "e04077af",
   "metadata": {},
   "outputs": [],
   "source": [
    "SELECT LandingOutcome, COUNT(*) FROM SPACEXTBL GROUP BY LandingOutcome;"
   ]
  },
  {
   "cell_type": "markdown",
   "id": "980002b1",
   "metadata": {},
   "source": [
    "Displays the number of successes and failures."
   ]
  },
  {
   "cell_type": "markdown",
   "id": "f559ec7e",
   "metadata": {},
   "source": [
    "## 8. Booster Carrying Maximum Payload"
   ]
  },
  {
   "cell_type": "code",
   "execution_count": null,
   "id": "8c8fd710",
   "metadata": {},
   "outputs": [],
   "source": [
    "SELECT BoosterVersion FROM SPACEXTBL \n",
    "WHERE PayloadMass = (SELECT MAX(PayloadMass) FROM SPACEXTBL);"
   ]
  },
  {
   "cell_type": "markdown",
   "id": "b5177002",
   "metadata": {},
   "source": [
    "Gets the booster with the highest payload mass."
   ]
  },
  {
   "cell_type": "markdown",
   "id": "bf2e5ecd",
   "metadata": {},
   "source": [
    "## 9. Failed Drone Ship Landings in 2015"
   ]
  },
  {
   "cell_type": "code",
   "execution_count": null,
   "id": "e53144f3",
   "metadata": {},
   "outputs": [],
   "source": [
    "SELECT BoosterVersion, LaunchSite FROM SPACEXTBL \n",
    "WHERE LandingOutcome = 'Failure (drone ship)' AND YEAR(Date) = 2015;"
   ]
  },
  {
   "cell_type": "markdown",
   "id": "863d1a73",
   "metadata": {},
   "source": [
    "Lists failures on drone ships in 2015."
   ]
  },
  {
   "cell_type": "markdown",
   "id": "641b0831",
   "metadata": {},
   "source": [
    "## 10. Landing Outcome Counts (Ranked)"
   ]
  },
  {
   "cell_type": "code",
   "execution_count": null,
   "id": "30b676cc",
   "metadata": {},
   "outputs": [],
   "source": [
    "SELECT LandingOutcome, COUNT(*) FROM SPACEXTBL \n",
    "WHERE Date BETWEEN '2010-06-04' AND '2017-03-20' \n",
    "GROUP BY LandingOutcome \n",
    "ORDER BY COUNT(*) DESC;"
   ]
  },
  {
   "cell_type": "markdown",
   "id": "bf0ecd66",
   "metadata": {},
   "source": [
    "Ranks landing outcomes by frequency."
   ]
  }
 ],
 "metadata": {},
 "nbformat": 4,
 "nbformat_minor": 5
}
